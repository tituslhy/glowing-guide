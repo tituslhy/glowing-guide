{
 "cells": [
  {
   "cell_type": "code",
   "execution_count": 1,
   "id": "eb909805",
   "metadata": {},
   "outputs": [],
   "source": [
    "%load_ext autoreload\n",
    "%autoreload 2"
   ]
  },
  {
   "cell_type": "code",
   "execution_count": 2,
   "id": "458ab460",
   "metadata": {},
   "outputs": [],
   "source": [
    "import os\n",
    "from dotenv import load_dotenv, find_dotenv\n",
    "\n",
    "_ = load_dotenv(find_dotenv())"
   ]
  },
  {
   "cell_type": "markdown",
   "id": "6f868f03",
   "metadata": {},
   "source": [
    "# Creating the investment analysis crew"
   ]
  },
  {
   "cell_type": "markdown",
   "id": "6b85856c",
   "metadata": {},
   "source": [
    "## Planner and Replanner"
   ]
  },
  {
   "cell_type": "code",
   "execution_count": 3,
   "id": "3a77a301",
   "metadata": {},
   "outputs": [],
   "source": [
    "from langchain_openai import ChatOpenAI\n",
    "planner_llm = ChatOpenAI(model=\"gpt-5-nano\", temperature=0)"
   ]
  },
  {
   "cell_type": "code",
   "execution_count": null,
   "id": "9c149bbb",
   "metadata": {},
   "outputs": [],
   "source": [
    "from typing import TypedDict, List, Literal, Union\n",
    "from pydantic import BaseModel, Field\n",
    "\n",
    "class Respond(BaseModel):\n",
    "    response: str\n",
    "    \n",
    "class UseAgent(BaseModel):\n",
    "    agent_to_use: Literal[ \"technical_analysis_agent\", \"fundamental_analysis_agent\"] = Field(..., description=\"Agent to use\")\n",
    "    query_to_send: str = Field(..., description=\"The query to ask this agent\")\n",
    "\n",
    "class Step(BaseModel):\n",
    "    step_number: int = Field(..., description=\"The step number in the plan\")\n",
    "    action: Union[UseAgent, Respond] = Field(\n",
    "        ..., \n",
    "        description= (\n",
    "            \"Action to perform. Use `Respond` if you want to respond to the user \"\n",
    "            \"without using a tool. If you need tools, use `UseAgent`. \"\n",
    "        )\n",
    "    )\n",
    "\n",
    "class Plan(BaseModel):\n",
    "    steps: List[Step] = Field(..., description=\"The list of steps in the plan\")"
   ]
  },
  {
   "cell_type": "code",
   "execution_count": 21,
   "id": "6532e9d5",
   "metadata": {},
   "outputs": [],
   "source": [
    "from langchain_core.prompts import ChatPromptTemplate\n",
    "\n",
    "planner_prompt = ChatPromptTemplate.from_template(\n",
    "    \"\"\"For a given objective, come up with a simple step by step plan to achieve the objective.\n",
    "    \n",
    "    The plan should involve individual tasks only.\n",
    "    \n",
    "    <important>\n",
    "        Invoke the fundamental_analysis_agent and technical_analysis_agent only once per company of interest.\n",
    "        If there are two companies of interest, invoke the respective agent/s twice.\n",
    "        Always use both agents to analyze stock market data when evaluating investments.\n",
    "    </important>\n",
    "    \n",
    "    The user's question is: {objective}\n",
    "    \"\"\"\n",
    ")\n",
    "\n",
    "llm_planner = planner_prompt | planner_llm.with_structured_output(Plan)\n",
    "plan = llm_planner.invoke(\"Based on the past 5 years of stock market data, recommend whether to buy, hold, or sell the stocks of Apple and Tesla.\")"
   ]
  },
  {
   "cell_type": "code",
   "execution_count": 22,
   "id": "d1593ec8",
   "metadata": {},
   "outputs": [
    {
     "data": {
      "text/plain": [
       "[Step(step_number=1, action=UseAgent(agent_to_use='fundamental_analysis_agent', query_to_send='Analyze the fundamentals of Apple (AAPL) using the past 5 years of stock market data, focusing on revenue growth, earnings growth, profit margins, return on equity, balance sheet strength (debt and liquidity), free cash flow, capital allocation (dividends and buybacks), product portfolio, competitive position, management quality, and macro risks. Provide a concise buy/hold/sell rating with rationale and key risks.')),\n",
       " Step(step_number=2, action=UseAgent(agent_to_use='technical_analysis_agent', query_to_send='Analyze the technical setup of Apple (AAPL) using daily price data from the past 5 years. Evaluate 50-day and 200-day moving averages, RSI, MACD, volume, support and resistance levels, trend, and chart patterns. Provide a concise buy/hold/sell rating with rationale.')),\n",
       " Step(step_number=3, action=UseAgent(agent_to_use='fundamental_analysis_agent', query_to_send='Analyze the fundamentals of Tesla (TSLA) using the past 5 years of stock market data, focusing on revenue growth, earnings, gross and operating margins, net margins, balance sheet strength (debt and liquidity), cash flow, capital allocation, product pipeline (EVs and energy), competitive landscape, management quality, and macro risks. Provide a concise buy/hold/sell rating with rationale and key risks.')),\n",
       " Step(step_number=4, action=UseAgent(agent_to_use='technical_analysis_agent', query_to_send='Analyze the technical setup of Tesla (TSLA) using daily price data from the past 5 years. Evaluate 50-day and 200-day moving averages, RSI, MACD, volume, support and resistance levels, trend, and chart patterns. Provide a concise buy/hold/sell rating with rationale.')),\n",
       " Step(step_number=5, action=Respond(response='Final recommendations will be provided here after completing steps 1-4. Apple (AAPL): [Buy/Hold/Sell] with brief rationale based on fundamental and technical analyses. Tesla (TSLA): [Buy/Hold/Sell] with brief rationale based on fundamental and technical analyses. Note: Recommendations will reflect the integrated view from both fundamental and technical analyses. Caveats and key risks will be included for each.]'))]"
      ]
     },
     "execution_count": 22,
     "metadata": {},
     "output_type": "execute_result"
    }
   ],
   "source": [
    "plan.steps"
   ]
  },
  {
   "cell_type": "markdown",
   "id": "a9b031b7",
   "metadata": {},
   "source": [
    "### Replanner"
   ]
  },
  {
   "cell_type": "code",
   "execution_count": null,
   "id": "9bee1b6e",
   "metadata": {},
   "outputs": [],
   "source": [
    "replanner_prompt = ChatPromptTemplate.from_template(\n",
    "    \"\"\"For the given objective, come up with a simple step by step plan. \\\n",
    "This plan should involve individual tasks, that if executed correctly will yield the correct answer. Do not add any superfluous steps. \\\n",
    "The result of the final step should be the final answer. Make sure that each step has all the information needed - do not skip steps.\n",
    "\n",
    "Your objective was this:\n",
    "{input}\n",
    "\n",
    "Your original plan was this:\n",
    "{plan}\n",
    "\n",
    "You have currently done the follow steps:\n",
    "{past_steps}\n",
    "\n",
    "Update your plan accordingly. If no more steps are needed and you can return to the user, then respond with that. Otherwise, fill out the plan. Only add steps to the plan that still NEED to be done. Do not return previously done steps as part of the plan.\"\"\"\n",
    ")\n",
    "\n",
    "llm_replanner = replanner_prompt | planner_llm.with_structured_output(Plan)"
   ]
  },
  {
   "cell_type": "code",
   "execution_count": null,
   "id": "994e8dcd",
   "metadata": {},
   "outputs": [],
   "source": []
  },
  {
   "cell_type": "code",
   "execution_count": null,
   "id": "ad04fcf7",
   "metadata": {},
   "outputs": [],
   "source": [
    "class State(TypedDict):\n",
    "    query: str\n",
    "    tickers: List[str]\n",
    "    plan: Plan\n",
    "    fundamental_analysis_agent_reply: str\n",
    "    technical_analysis_agent_reply: str\n",
    "    search_agent_reply: str\n",
    "    steps_done: List[Step]"
   ]
  }
 ],
 "metadata": {
  "kernelspec": {
   "display_name": ".venv",
   "language": "python",
   "name": "python3"
  },
  "language_info": {
   "codemirror_mode": {
    "name": "ipython",
    "version": 3
   },
   "file_extension": ".py",
   "mimetype": "text/x-python",
   "name": "python",
   "nbconvert_exporter": "python",
   "pygments_lexer": "ipython3",
   "version": "3.13.4"
  }
 },
 "nbformat": 4,
 "nbformat_minor": 5
}
