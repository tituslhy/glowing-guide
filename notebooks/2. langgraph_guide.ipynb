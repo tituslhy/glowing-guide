{
 "cells": [
  {
   "cell_type": "code",
   "execution_count": 1,
   "id": "eb909805",
   "metadata": {},
   "outputs": [],
   "source": [
    "%load_ext autoreload\n",
    "%autoreload 2"
   ]
  },
  {
   "cell_type": "code",
   "execution_count": 2,
   "id": "458ab460",
   "metadata": {},
   "outputs": [],
   "source": [
    "import os\n",
    "from dotenv import load_dotenv, find_dotenv\n",
    "\n",
    "_ = load_dotenv(find_dotenv())"
   ]
  },
  {
   "cell_type": "markdown",
   "id": "6f868f03",
   "metadata": {},
   "source": [
    "# Creating the investment analysis crew"
   ]
  },
  {
   "cell_type": "markdown",
   "id": "6b85856c",
   "metadata": {},
   "source": [
    "## Planner and Replanner"
   ]
  },
  {
   "cell_type": "code",
   "execution_count": 23,
   "id": "3a77a301",
   "metadata": {},
   "outputs": [],
   "source": [
    "from langchain_openai import ChatOpenAI\n",
    "planner_llm = ChatOpenAI(model=\"gpt-5-nano\", temperature=0)"
   ]
  },
  {
   "cell_type": "code",
   "execution_count": 25,
   "id": "9c149bbb",
   "metadata": {},
   "outputs": [],
   "source": [
    "from typing import TypedDict, List, Literal\n",
    "from pydantic import BaseModel, Field\n",
    "\n",
    "class Step(BaseModel):\n",
    "    step_number: int = Field(..., description=\"The step number in the plan\")\n",
    "    agent_to_use: Literal[\n",
    "        \"technical_analysis_agent\", \n",
    "        \"fundamental_analysis_agent\", \n",
    "        \"just_reply\",\n",
    "        \"consolidate_and_reply\"\n",
    "    ] = Field(\n",
    "        ..., \n",
    "        description= (\n",
    "            \"The name of the agent to use for this step. Use 'just_reply' to have \"\n",
    "            \"the agent respond directly without invoking another agent. Use \"\n",
    "            \"'consolidate_and_reply' to have the agent consolidate information \"\n",
    "            \"from previous steps and respond.\"\n",
    "        )\n",
    "    )\n",
    "    query_to_ask: str = Field(..., description=\"The query to ask this agent\")\n",
    "\n",
    "class Plan(BaseModel):\n",
    "    steps: List[Step] = Field(..., description=\"The list of steps in the plan\")"
   ]
  },
  {
   "cell_type": "code",
   "execution_count": 28,
   "id": "6532e9d5",
   "metadata": {},
   "outputs": [],
   "source": [
    "from langchain_core.prompts import ChatPromptTemplate\n",
    "\n",
    "planner_prompt = ChatPromptTemplate.from_template(\n",
    "    \"\"\"For a given objective, come up with a simple step by step plan to achieve the objective.\n",
    "    \n",
    "    The plan should involve individual tasks that if executed correctly will yield the final outcome.\n",
    "    \n",
    "    The result of the final step should be the final answer to the user's objective.\n",
    "    \n",
    "    <important>\n",
    "        Invoke the fundamental_analysis_agent and technical_analysis_agent only once per company of interest.\n",
    "        Only use `just_reply` if you don't have to invoke any other agents.\n",
    "        Whenever you invoke more than one agent, always have a `consolidate_reply` step at the end.\n",
    "    </important>\n",
    "    \n",
    "    This means that if the user asks for analysis over 2 companies, you can invoke each agent twice, once per company.\n",
    "    \n",
    "    The user's question is: {objective}\n",
    "    \"\"\"\n",
    ")\n",
    "\n",
    "llm_planner = planner_prompt | planner_llm.with_structured_output(Plan)\n",
    "plan = llm_planner.invoke({\n",
    "    \"Based on the past 5 years of stock market data, recommend whether to buy, hold, or sell the stock of Apple.\"\n",
    "})"
   ]
  },
  {
   "cell_type": "code",
   "execution_count": 29,
   "id": "d1593ec8",
   "metadata": {},
   "outputs": [
    {
     "data": {
      "text/plain": [
       "[Step(step_number=1, agent_to_use='fundamental_analysis_agent', query_to_ask='Please perform a fundamental analysis of Apple Inc. (AAPL) using the past 5 years of fundamental data. Provide an assessment of intrinsic value versus price based on revenue growth, earnings quality, operating margins, return metrics, balance sheet strength, cash flow, dividends and buybacks, and management guidance. Highlight key drivers of long-term value and indicate whether the stock appears undervalued, fairly valued, or overvalued.'),\n",
       " Step(step_number=2, agent_to_use='technical_analysis_agent', query_to_ask='Please perform a technical analysis of Apple Inc. (AAPL) using the past 5 years of stock market data. Analyze price trends, momentum, volatility, moving averages (e.g., 50-day and 200-day), RSI, MACD, volume, and identify support/resistance levels and common chart patterns. Provide a buy/hold/sell recommendation with rationale for the near-to-medium term and note any caveats.'),\n",
       " Step(step_number=3, agent_to_use='consolidate_and_reply', query_to_ask='Consolidate the fundamental and technical analyses for Apple (AAPL) based on the past 5 years of stock market data and deliver a final buy/hold/sell recommendation with concise justification and any key caveats.')]"
      ]
     },
     "execution_count": 29,
     "metadata": {},
     "output_type": "execute_result"
    }
   ],
   "source": [
    "plan.steps"
   ]
  },
  {
   "cell_type": "markdown",
   "id": "a9b031b7",
   "metadata": {},
   "source": [
    "### Replanner"
   ]
  },
  {
   "cell_type": "code",
   "execution_count": 14,
   "id": "9bee1b6e",
   "metadata": {},
   "outputs": [],
   "source": [
    "replanner_prompt = ChatPromptTemplate.from_template(\n",
    "    \"\"\"For the given objective, come up with a simple step by step plan. \\\n",
    "This plan should involve individual tasks, that if executed correctly will yield the correct answer. Do not add any superfluous steps. \\\n",
    "The result of the final step should be the final answer. Make sure that each step has all the information needed - do not skip steps.\n",
    "\n",
    "Your objective was this:\n",
    "{input}\n",
    "\n",
    "Your original plan was this:\n",
    "{plan}\n",
    "\n",
    "You have currently done the follow steps:\n",
    "{past_steps}\n",
    "\n",
    "Update your plan accordingly. If no more steps are needed and you can return to the user, then respond with that. Otherwise, fill out the plan. Only add steps to the plan that still NEED to be done. Do not return previously done steps as part of the plan.\"\"\"\n",
    ")\n",
    "\n",
    "llm_replanner = replanner_prompt | llm.with_structured_output(Plan)"
   ]
  },
  {
   "cell_type": "code",
   "execution_count": null,
   "id": "994e8dcd",
   "metadata": {},
   "outputs": [],
   "source": []
  },
  {
   "cell_type": "code",
   "execution_count": null,
   "id": "ad04fcf7",
   "metadata": {},
   "outputs": [],
   "source": [
    "class State(TypedDict):\n",
    "    query: str\n",
    "    tickers: List[str]\n",
    "    plan: Plan\n",
    "    fundamental_analysis_agent_reply: str\n",
    "    technical_analysis_agent_reply: str\n",
    "    search_agent_reply: str\n",
    "    steps_done: List[Step]"
   ]
  }
 ],
 "metadata": {
  "kernelspec": {
   "display_name": ".venv",
   "language": "python",
   "name": "python3"
  },
  "language_info": {
   "codemirror_mode": {
    "name": "ipython",
    "version": 3
   },
   "file_extension": ".py",
   "mimetype": "text/x-python",
   "name": "python",
   "nbconvert_exporter": "python",
   "pygments_lexer": "ipython3",
   "version": "3.13.4"
  }
 },
 "nbformat": 4,
 "nbformat_minor": 5
}
