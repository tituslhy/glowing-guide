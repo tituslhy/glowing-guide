{
 "cells": [
  {
   "cell_type": "code",
   "execution_count": 1,
   "id": "12b20dc9",
   "metadata": {},
   "outputs": [],
   "source": [
    "%load_ext autoreload\n",
    "%autoreload 2"
   ]
  },
  {
   "cell_type": "code",
   "execution_count": 2,
   "id": "3a8e0fc7",
   "metadata": {},
   "outputs": [],
   "source": [
    "from typing import TypedDict, Annotated, Literal\n",
    "from langgraph.graph import StateGraph, START, END, MessagesState\n",
    "from langgraph.types import Command, Send\n",
    "from langgraph.checkpoint.memory import MemorySaver\n",
    "from langgraph.prebuilt import ToolNode\n",
    "from langchain_core.tools import tool, InjectedToolCallId\n",
    "from langchain_core.messages import HumanMessage, AIMessage, ToolMessage, SystemMessage\n",
    "import operator\n",
    "import json"
   ]
  },
  {
   "cell_type": "code",
   "execution_count": 3,
   "id": "a4333796",
   "metadata": {},
   "outputs": [],
   "source": [
    "class State(TypedDict):\n",
    "    messages: Annotated[list, operator.add]\n",
    "    pending_tool_calls: list[dict]\n",
    "    tool_results: Annotated[list[dict], operator.add]\n",
    "    needs_human_review: bool\n",
    "    final_answer: str"
   ]
  },
  {
   "cell_type": "markdown",
   "id": "83a8a062",
   "metadata": {},
   "source": [
    "## Tool calls with `InjectedToolCallId`"
   ]
  },
  {
   "cell_type": "code",
   "execution_count": 15,
   "id": "a309a04a",
   "metadata": {},
   "outputs": [],
   "source": [
    "import yfinance as yf\n",
    "from datetime import datetime\n",
    "import logging\n",
    "\n",
    "logging.basicConfig(level=logging.INFO)\n",
    "logger = logging.getLogger(__name__)\n",
    "\n",
    "@tool\n",
    "def search_for_stock_price(\n",
    "    ticker: str,\n",
    "    tool_call_id: Annotated[str, InjectedToolCallId],\n",
    "    start_date: Annotated[str | None, \"Date time in YYYY-MM-DD format\"] = None,\n",
    "    end_date: str | None = None,\n",
    ") -> Command:\n",
    "    \"\"\"Searches Yahoo Finance for stock information\n",
    "\n",
    "    Args:\n",
    "        ticker (str): Ticker of interest. For example \"META\"\n",
    "        tool_call_id (Annotated[str, InjectedToolCallId]): _description_\n",
    "\n",
    "    Returns:\n",
    "        Command: A node of the parent graph to route to\n",
    "    \"\"\"\n",
    "    date_format = \"%Y-%m-%d\"\n",
    "    try:\n",
    "        stock_ticker = yf.Ticker(ticker)\n",
    "        if start_date and end_date:\n",
    "            try:\n",
    "                start_date_formatted = datetime.strptime(start_date, date_format)\n",
    "                end_date_formatted = datetime.strptime(end_date, date_format)\n",
    "                data = stock_ticker.history(start=start_date_formatted, end=end_date_formatted).to_json()\n",
    "            \n",
    "            except Exception as e:\n",
    "                # If we fail to parse the datetime format, we just get the max information.\n",
    "                logger.error(f\"Faced the error: {e}. Getting data from max period\")\n",
    "                data = stock_ticker.history(period=\"max\").to_json()\n",
    "        else:                \n",
    "            data = stock_ticker.history(period=\"max\").to_json()\n",
    "        \n",
    "        tool_msg = ToolMessage(\n",
    "            content=data,\n",
    "            tool_call_id=tool_call_id,\n",
    "            name=\"search_for_stock_prices\"\n",
    "        )\n",
    "        return Command(\n",
    "            update={\n",
    "                \"messages\": [tool_msg],\n",
    "                \"tool_results\":[{\n",
    "                    'tool': 'search_for_stock_prices',\n",
    "                    'status':'success',\n",
    "                    'results': data\n",
    "                }]\n",
    "            },\n",
    "            goto=\"analyze_results\"\n",
    "        )\n",
    "        \n",
    "    except Exception as e:\n",
    "        msg = f\"Unable to find the info from {ticker} due to {e}. It is likely that the ticker is incorrect\"\n",
    "        logger.error(msg)\n",
    "        tool_msg = ToolMessage(\n",
    "            content=msg,\n",
    "            tool_call_id=tool_call_id,\n",
    "            name=\"search_for_stock_prices\"\n",
    "        )\n",
    "        return Command(\n",
    "            update={'messages': [tool_msg]},\n",
    "            goto=\"handle_no_results\"\n",
    "        )\n",
    "    "
   ]
  },
  {
   "cell_type": "code",
   "execution_count": null,
   "id": "42959cc9",
   "metadata": {},
   "outputs": [],
   "source": [
    "def handle_no_results(state: State) -> Literal[Command(\"aggregate_results\")]:\n",
    "    \"\"\"Handles cases where tools found no results.\"\"\"\n",
    "    return Command(\n",
    "        update={\"messages\"}\n",
    "    )"
   ]
  }
 ],
 "metadata": {
  "kernelspec": {
   "display_name": "glowing-guide",
   "language": "python",
   "name": "python3"
  },
  "language_info": {
   "codemirror_mode": {
    "name": "ipython",
    "version": 3
   },
   "file_extension": ".py",
   "mimetype": "text/x-python",
   "name": "python",
   "nbconvert_exporter": "python",
   "pygments_lexer": "ipython3",
   "version": "3.13.7"
  }
 },
 "nbformat": 4,
 "nbformat_minor": 5
}
